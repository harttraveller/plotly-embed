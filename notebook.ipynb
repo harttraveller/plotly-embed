{
 "cells": [
  {
   "cell_type": "code",
   "execution_count": null,
   "metadata": {},
   "outputs": [],
   "source": []
  }
 ],
 "metadata": {
  "kernelspec": {
   "display_name": "eio",
   "language": "python",
   "name": "python3"
  },
  "language_info": {
   "name": "python",
   "version": "3.10.8 (main, Nov 24 2022, 08:08:27) [Clang 14.0.6 ]"
  },
  "orig_nbformat": 4,
  "vscode": {
   "interpreter": {
    "hash": "63504a0a410264add839d4cf073748d68b0ee33d38c6ad30d35cafb334e86a86"
   }
  }
 },
 "nbformat": 4,
 "nbformat_minor": 2
}
